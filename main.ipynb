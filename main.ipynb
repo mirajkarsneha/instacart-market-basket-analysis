{
 "cells": [
  {
   "cell_type": "markdown",
   "id": "aba2ab47-d2c6-429c-92d5-ddbf8aab12b4",
   "metadata": {},
   "source": [
    "# Business Question \n",
    "### Customer behaviour analysis\n",
    "- Why customers stop using a product or service?\n",
    "- What percentage of customers have churned in the past quarter?\n",
    "- Predict/recommend the next order of a customer?"
   ]
  },
  {
   "cell_type": "code",
   "execution_count": 95,
   "id": "841c5e8e-ecda-4db1-84ee-fc2e90d4b09c",
   "metadata": {},
   "outputs": [],
   "source": [
    "import pandas as pd\n",
    "import numpy as np\n",
    "import seaborn as sns\n",
    "import matplotlib.pyplot as plt"
   ]
  },
  {
   "cell_type": "code",
   "execution_count": 4,
   "id": "c6adc683-f38b-4047-a896-a35416eba479",
   "metadata": {},
   "outputs": [],
   "source": [
    "products = pd.read_csv(\"/Users/rishikeshdhokare/Documents/Ironhack/FinalProject/instacart-customer-churn-analysis/datafiles/products.csv\")\n",
    "order_products_train = pd.read_csv(\"/Users/rishikeshdhokare/Documents/Ironhack/FinalProject/instacart-customer-churn-analysis/datafiles/order_products__train.csv\")\n",
    "order_products_prior = pd.read_csv(\"/Users/rishikeshdhokare/Documents/Ironhack/FinalProject/instacart-market-basket-analysis/datafiles/order_products__prior.csv\") \n",
    "departments = pd.read_csv(\"/Users/rishikeshdhokare/Documents/Ironhack/FinalProject/instacart-market-basket-analysis/datafiles/departments.csv\")\n",
    "aisles = pd.read_csv(\"/Users/rishikeshdhokare/Documents/Ironhack/FinalProject/instacart-market-basket-analysis/datafiles/aisles.csv\")\n",
    "orders = pd.read_csv(\"/Users/rishikeshdhokare/Documents/Ironhack/FinalProject/instacart-customer-churn-analysis/datafiles/orders.csv\")"
   ]
  },
  {
   "cell_type": "code",
   "execution_count": 54,
   "id": "91aa5264-5d2c-4b58-be03-67961af36398",
   "metadata": {},
   "outputs": [
    {
     "data": {
      "text/plain": [
       "Index(['order_id', 'product_id', 'add_to_cart_order', 'reordered'], dtype='object')"
      ]
     },
     "execution_count": 54,
     "metadata": {},
     "output_type": "execute_result"
    }
   ],
   "source": [
    "order_products_train.columns"
   ]
  },
  {
   "cell_type": "code",
   "execution_count": 5,
   "id": "e1c44196-316b-4b50-9a43-9dcc57fbadca",
   "metadata": {},
   "outputs": [
    {
     "data": {
      "text/plain": [
       "(32434489, 4)"
      ]
     },
     "execution_count": 5,
     "metadata": {},
     "output_type": "execute_result"
    }
   ],
   "source": [
    "order_products_prior.shape"
   ]
  },
  {
   "cell_type": "code",
   "execution_count": null,
   "id": "10a184a9-d040-4755-900a-e9a41acea9cb",
   "metadata": {},
   "outputs": [],
   "source": [
    "orders.shape"
   ]
  },
  {
   "cell_type": "code",
   "execution_count": 58,
   "id": "cc8deeb0-dbbd-4865-be40-a045d8fcb594",
   "metadata": {},
   "outputs": [
    {
     "data": {
      "text/plain": [
       "Index(['order_id', 'user_id', 'eval_set', 'order_number', 'order_dow',\n",
       "       'order_hour_of_day', 'days_since_prior_order'],\n",
       "      dtype='object')"
      ]
     },
     "execution_count": 58,
     "metadata": {},
     "output_type": "execute_result"
    }
   ],
   "source": [
    "orders.columns"
   ]
  },
  {
   "cell_type": "code",
   "execution_count": 60,
   "id": "2e7c8453-738e-4306-82c5-7c42d6788dcf",
   "metadata": {},
   "outputs": [
    {
     "data": {
      "text/plain": [
       "Index(['department_id', 'department'], dtype='object')"
      ]
     },
     "execution_count": 60,
     "metadata": {},
     "output_type": "execute_result"
    }
   ],
   "source": [
    "departments.columns"
   ]
  },
  {
   "cell_type": "code",
   "execution_count": 62,
   "id": "8dc31296-b745-4860-a7e9-8ba83ab7ed7b",
   "metadata": {},
   "outputs": [
    {
     "data": {
      "text/plain": [
       "Index(['aisle_id', 'aisle'], dtype='object')"
      ]
     },
     "execution_count": 62,
     "metadata": {},
     "output_type": "execute_result"
    }
   ],
   "source": [
    "aisles.columns"
   ]
  },
  {
   "cell_type": "code",
   "execution_count": 64,
   "id": "14299220-ee87-4bf7-961e-306ae406ce88",
   "metadata": {},
   "outputs": [
    {
     "data": {
      "text/plain": [
       "Index(['product_id', 'product_name', 'aisle_id', 'department_id'], dtype='object')"
      ]
     },
     "execution_count": 64,
     "metadata": {},
     "output_type": "execute_result"
    }
   ],
   "source": [
    "products.columns"
   ]
  },
  {
   "cell_type": "code",
   "execution_count": 70,
   "id": "2e5e76c2-bd6c-4cea-b368-55a9f0fe91a4",
   "metadata": {},
   "outputs": [
    {
     "name": "stdout",
     "output_type": "stream",
     "text": [
      "Number of inactive customers in the last 30 days: 152012\n",
      "Total number of unique customers: 206209\n",
      "Churn rate: 73.72%\n"
     ]
    }
   ],
   "source": [
    "import pandas as pd\n",
    "\n",
    "# Load the data\n",
    "orders = pd.read_csv(\"/Users/rishikeshdhokare/Documents/Ironhack/FinalProject/instacart-customer-churn-analysis/datafiles/orders.csv\")\n",
    "\n",
    "# Convert 'days_since_prior_order' column to numeric (if needed)\n",
    "orders['days_since_prior_order'] = pd.to_numeric(orders['days_since_prior_order'], errors='coerce')\n",
    "\n",
    "# 1. Calculate the number of inactive customers in the last 30 days\n",
    "# Inactive customers are those who haven't ordered in the last 30 days\n",
    "inactive_customers = (\n",
    "    orders.groupby('user_id')['days_since_prior_order']\n",
    "    .max()\n",
    "    .reset_index()\n",
    "    .rename(columns={'days_since_prior_order': 'max_days_since_prior'})\n",
    ")\n",
    "\n",
    "# Filter for customers with a max days_since_prior_order >= 30 (inactive) or no prior order (NaN)\n",
    "inactive_customers_30_days = inactive_customers[\n",
    "    (inactive_customers['max_days_since_prior'] >= 30) | (inactive_customers['max_days_since_prior'].isna())\n",
    "]\n",
    "\n",
    "inactive_customers_30_days_count = inactive_customers_30_days['user_id'].nunique()\n",
    "print(f\"Number of inactive customers in the last 30 days: {inactive_customers_30_days_count}\")\n",
    "\n",
    "# 2. Calculate churn rate based on inactive customers in the last 30 days\n",
    "total_customers = orders['user_id'].nunique()\n",
    "print(f\"Total number of unique customers: {total_customers}\")\n",
    " \n",
    "# Calculate churn rate\n",
    "churn_rate = (inactive_customers_30_days_count / total_customers) * 100\n",
    "print(f\"Churn rate: {churn_rate:.2f}%\")\n"
   ]
  },
  {
   "cell_type": "code",
   "execution_count": 74,
   "id": "95f47f57-76cf-46aa-9f4b-58ff1df60d91",
   "metadata": {},
   "outputs": [],
   "source": [
    "import pandas as pd\n",
    "from sklearn.model_selection import train_test_split\n",
    "from sklearn.ensemble import RandomForestClassifier\n",
    "from sklearn.metrics import accuracy_score, classification_report\n",
    "\n",
    "# Step 1: Load the data from CSV files\n",
    "products = pd.read_csv(\"/Users/rishikeshdhokare/Documents/Ironhack/FinalProject/instacart-customer-churn-analysis/datafiles/products.csv\")\n",
    "order_products_train = pd.read_csv(\"/Users/rishikeshdhokare/Documents/Ironhack/FinalProject/instacart-customer-churn-analysis/datafiles/order_products__train.csv\")\n",
    "order_products_prior = pd.read_csv(\"/Users/rishikeshdhokare/Documents/Ironhack/FinalProject/instacart-market-basket-analysis/datafiles/order_products__prior.csv\") \n",
    "orders = pd.read_csv(\"/Users/rishikeshdhokare/Documents/Ironhack/FinalProject/instacart-customer-churn-analysis/datafiles/orders.csv\")\n",
    "\n",
    "# Step 2: Merge the 'orders' table with 'order_products_train' and 'order_products_prior' tables\n",
    "train_data = pd.merge(order_products_train, orders, on='order_id', how='left')\n",
    "prior_data = pd.merge(order_products_prior, orders, on='order_id', how='left')\n",
    "\n",
    "# Step 3: Merge both prior and train data into one dataset\n",
    "merged_data = pd.concat([train_data, prior_data], ignore_index=True)\n",
    "\n",
    "# Step 4: Merge with products to get product details\n",
    "merged_data = pd.merge(merged_data, products, on='product_id', how='left')\n",
    "\n",
    "# Step 5: Create the churn variable (1 for churned, 0 for not churned)\n",
    "# Churn is defined here as users who haven't ordered in the last 30 days\n",
    "merged_data['churn'] = merged_data['days_since_prior_order'].apply(lambda x: 0 if x <= 30 else 1)\n"
   ]
  },
  {
   "cell_type": "code",
   "execution_count": 78,
   "id": "4b206189-0b05-4c52-9a93-0f4598e17214",
   "metadata": {},
   "outputs": [],
   "source": [
    "# Step 6: Select the features (this can be customized based on your analysis)\n",
    "# Feature columns are chosen based on available data\n",
    "X = merged_data[['user_id', 'order_number', 'order_dow', 'order_hour_of_day', 'days_since_prior_order']]\n",
    "y = merged_data['churn']  # Target variable: churn\n",
    "\n"
   ]
  },
  {
   "cell_type": "code",
   "execution_count": 80,
   "id": "1dea4a1d-4049-47b8-b92e-d7345986b765",
   "metadata": {},
   "outputs": [
    {
     "data": {
      "text/html": [
       "<style>#sk-container-id-1 {\n",
       "  /* Definition of color scheme common for light and dark mode */\n",
       "  --sklearn-color-text: black;\n",
       "  --sklearn-color-line: gray;\n",
       "  /* Definition of color scheme for unfitted estimators */\n",
       "  --sklearn-color-unfitted-level-0: #fff5e6;\n",
       "  --sklearn-color-unfitted-level-1: #f6e4d2;\n",
       "  --sklearn-color-unfitted-level-2: #ffe0b3;\n",
       "  --sklearn-color-unfitted-level-3: chocolate;\n",
       "  /* Definition of color scheme for fitted estimators */\n",
       "  --sklearn-color-fitted-level-0: #f0f8ff;\n",
       "  --sklearn-color-fitted-level-1: #d4ebff;\n",
       "  --sklearn-color-fitted-level-2: #b3dbfd;\n",
       "  --sklearn-color-fitted-level-3: cornflowerblue;\n",
       "\n",
       "  /* Specific color for light theme */\n",
       "  --sklearn-color-text-on-default-background: var(--sg-text-color, var(--theme-code-foreground, var(--jp-content-font-color1, black)));\n",
       "  --sklearn-color-background: var(--sg-background-color, var(--theme-background, var(--jp-layout-color0, white)));\n",
       "  --sklearn-color-border-box: var(--sg-text-color, var(--theme-code-foreground, var(--jp-content-font-color1, black)));\n",
       "  --sklearn-color-icon: #696969;\n",
       "\n",
       "  @media (prefers-color-scheme: dark) {\n",
       "    /* Redefinition of color scheme for dark theme */\n",
       "    --sklearn-color-text-on-default-background: var(--sg-text-color, var(--theme-code-foreground, var(--jp-content-font-color1, white)));\n",
       "    --sklearn-color-background: var(--sg-background-color, var(--theme-background, var(--jp-layout-color0, #111)));\n",
       "    --sklearn-color-border-box: var(--sg-text-color, var(--theme-code-foreground, var(--jp-content-font-color1, white)));\n",
       "    --sklearn-color-icon: #878787;\n",
       "  }\n",
       "}\n",
       "\n",
       "#sk-container-id-1 {\n",
       "  color: var(--sklearn-color-text);\n",
       "}\n",
       "\n",
       "#sk-container-id-1 pre {\n",
       "  padding: 0;\n",
       "}\n",
       "\n",
       "#sk-container-id-1 input.sk-hidden--visually {\n",
       "  border: 0;\n",
       "  clip: rect(1px 1px 1px 1px);\n",
       "  clip: rect(1px, 1px, 1px, 1px);\n",
       "  height: 1px;\n",
       "  margin: -1px;\n",
       "  overflow: hidden;\n",
       "  padding: 0;\n",
       "  position: absolute;\n",
       "  width: 1px;\n",
       "}\n",
       "\n",
       "#sk-container-id-1 div.sk-dashed-wrapped {\n",
       "  border: 1px dashed var(--sklearn-color-line);\n",
       "  margin: 0 0.4em 0.5em 0.4em;\n",
       "  box-sizing: border-box;\n",
       "  padding-bottom: 0.4em;\n",
       "  background-color: var(--sklearn-color-background);\n",
       "}\n",
       "\n",
       "#sk-container-id-1 div.sk-container {\n",
       "  /* jupyter's `normalize.less` sets `[hidden] { display: none; }`\n",
       "     but bootstrap.min.css set `[hidden] { display: none !important; }`\n",
       "     so we also need the `!important` here to be able to override the\n",
       "     default hidden behavior on the sphinx rendered scikit-learn.org.\n",
       "     See: https://github.com/scikit-learn/scikit-learn/issues/21755 */\n",
       "  display: inline-block !important;\n",
       "  position: relative;\n",
       "}\n",
       "\n",
       "#sk-container-id-1 div.sk-text-repr-fallback {\n",
       "  display: none;\n",
       "}\n",
       "\n",
       "div.sk-parallel-item,\n",
       "div.sk-serial,\n",
       "div.sk-item {\n",
       "  /* draw centered vertical line to link estimators */\n",
       "  background-image: linear-gradient(var(--sklearn-color-text-on-default-background), var(--sklearn-color-text-on-default-background));\n",
       "  background-size: 2px 100%;\n",
       "  background-repeat: no-repeat;\n",
       "  background-position: center center;\n",
       "}\n",
       "\n",
       "/* Parallel-specific style estimator block */\n",
       "\n",
       "#sk-container-id-1 div.sk-parallel-item::after {\n",
       "  content: \"\";\n",
       "  width: 100%;\n",
       "  border-bottom: 2px solid var(--sklearn-color-text-on-default-background);\n",
       "  flex-grow: 1;\n",
       "}\n",
       "\n",
       "#sk-container-id-1 div.sk-parallel {\n",
       "  display: flex;\n",
       "  align-items: stretch;\n",
       "  justify-content: center;\n",
       "  background-color: var(--sklearn-color-background);\n",
       "  position: relative;\n",
       "}\n",
       "\n",
       "#sk-container-id-1 div.sk-parallel-item {\n",
       "  display: flex;\n",
       "  flex-direction: column;\n",
       "}\n",
       "\n",
       "#sk-container-id-1 div.sk-parallel-item:first-child::after {\n",
       "  align-self: flex-end;\n",
       "  width: 50%;\n",
       "}\n",
       "\n",
       "#sk-container-id-1 div.sk-parallel-item:last-child::after {\n",
       "  align-self: flex-start;\n",
       "  width: 50%;\n",
       "}\n",
       "\n",
       "#sk-container-id-1 div.sk-parallel-item:only-child::after {\n",
       "  width: 0;\n",
       "}\n",
       "\n",
       "/* Serial-specific style estimator block */\n",
       "\n",
       "#sk-container-id-1 div.sk-serial {\n",
       "  display: flex;\n",
       "  flex-direction: column;\n",
       "  align-items: center;\n",
       "  background-color: var(--sklearn-color-background);\n",
       "  padding-right: 1em;\n",
       "  padding-left: 1em;\n",
       "}\n",
       "\n",
       "\n",
       "/* Toggleable style: style used for estimator/Pipeline/ColumnTransformer box that is\n",
       "clickable and can be expanded/collapsed.\n",
       "- Pipeline and ColumnTransformer use this feature and define the default style\n",
       "- Estimators will overwrite some part of the style using the `sk-estimator` class\n",
       "*/\n",
       "\n",
       "/* Pipeline and ColumnTransformer style (default) */\n",
       "\n",
       "#sk-container-id-1 div.sk-toggleable {\n",
       "  /* Default theme specific background. It is overwritten whether we have a\n",
       "  specific estimator or a Pipeline/ColumnTransformer */\n",
       "  background-color: var(--sklearn-color-background);\n",
       "}\n",
       "\n",
       "/* Toggleable label */\n",
       "#sk-container-id-1 label.sk-toggleable__label {\n",
       "  cursor: pointer;\n",
       "  display: block;\n",
       "  width: 100%;\n",
       "  margin-bottom: 0;\n",
       "  padding: 0.5em;\n",
       "  box-sizing: border-box;\n",
       "  text-align: center;\n",
       "}\n",
       "\n",
       "#sk-container-id-1 label.sk-toggleable__label-arrow:before {\n",
       "  /* Arrow on the left of the label */\n",
       "  content: \"▸\";\n",
       "  float: left;\n",
       "  margin-right: 0.25em;\n",
       "  color: var(--sklearn-color-icon);\n",
       "}\n",
       "\n",
       "#sk-container-id-1 label.sk-toggleable__label-arrow:hover:before {\n",
       "  color: var(--sklearn-color-text);\n",
       "}\n",
       "\n",
       "/* Toggleable content - dropdown */\n",
       "\n",
       "#sk-container-id-1 div.sk-toggleable__content {\n",
       "  max-height: 0;\n",
       "  max-width: 0;\n",
       "  overflow: hidden;\n",
       "  text-align: left;\n",
       "  /* unfitted */\n",
       "  background-color: var(--sklearn-color-unfitted-level-0);\n",
       "}\n",
       "\n",
       "#sk-container-id-1 div.sk-toggleable__content.fitted {\n",
       "  /* fitted */\n",
       "  background-color: var(--sklearn-color-fitted-level-0);\n",
       "}\n",
       "\n",
       "#sk-container-id-1 div.sk-toggleable__content pre {\n",
       "  margin: 0.2em;\n",
       "  border-radius: 0.25em;\n",
       "  color: var(--sklearn-color-text);\n",
       "  /* unfitted */\n",
       "  background-color: var(--sklearn-color-unfitted-level-0);\n",
       "}\n",
       "\n",
       "#sk-container-id-1 div.sk-toggleable__content.fitted pre {\n",
       "  /* unfitted */\n",
       "  background-color: var(--sklearn-color-fitted-level-0);\n",
       "}\n",
       "\n",
       "#sk-container-id-1 input.sk-toggleable__control:checked~div.sk-toggleable__content {\n",
       "  /* Expand drop-down */\n",
       "  max-height: 200px;\n",
       "  max-width: 100%;\n",
       "  overflow: auto;\n",
       "}\n",
       "\n",
       "#sk-container-id-1 input.sk-toggleable__control:checked~label.sk-toggleable__label-arrow:before {\n",
       "  content: \"▾\";\n",
       "}\n",
       "\n",
       "/* Pipeline/ColumnTransformer-specific style */\n",
       "\n",
       "#sk-container-id-1 div.sk-label input.sk-toggleable__control:checked~label.sk-toggleable__label {\n",
       "  color: var(--sklearn-color-text);\n",
       "  background-color: var(--sklearn-color-unfitted-level-2);\n",
       "}\n",
       "\n",
       "#sk-container-id-1 div.sk-label.fitted input.sk-toggleable__control:checked~label.sk-toggleable__label {\n",
       "  background-color: var(--sklearn-color-fitted-level-2);\n",
       "}\n",
       "\n",
       "/* Estimator-specific style */\n",
       "\n",
       "/* Colorize estimator box */\n",
       "#sk-container-id-1 div.sk-estimator input.sk-toggleable__control:checked~label.sk-toggleable__label {\n",
       "  /* unfitted */\n",
       "  background-color: var(--sklearn-color-unfitted-level-2);\n",
       "}\n",
       "\n",
       "#sk-container-id-1 div.sk-estimator.fitted input.sk-toggleable__control:checked~label.sk-toggleable__label {\n",
       "  /* fitted */\n",
       "  background-color: var(--sklearn-color-fitted-level-2);\n",
       "}\n",
       "\n",
       "#sk-container-id-1 div.sk-label label.sk-toggleable__label,\n",
       "#sk-container-id-1 div.sk-label label {\n",
       "  /* The background is the default theme color */\n",
       "  color: var(--sklearn-color-text-on-default-background);\n",
       "}\n",
       "\n",
       "/* On hover, darken the color of the background */\n",
       "#sk-container-id-1 div.sk-label:hover label.sk-toggleable__label {\n",
       "  color: var(--sklearn-color-text);\n",
       "  background-color: var(--sklearn-color-unfitted-level-2);\n",
       "}\n",
       "\n",
       "/* Label box, darken color on hover, fitted */\n",
       "#sk-container-id-1 div.sk-label.fitted:hover label.sk-toggleable__label.fitted {\n",
       "  color: var(--sklearn-color-text);\n",
       "  background-color: var(--sklearn-color-fitted-level-2);\n",
       "}\n",
       "\n",
       "/* Estimator label */\n",
       "\n",
       "#sk-container-id-1 div.sk-label label {\n",
       "  font-family: monospace;\n",
       "  font-weight: bold;\n",
       "  display: inline-block;\n",
       "  line-height: 1.2em;\n",
       "}\n",
       "\n",
       "#sk-container-id-1 div.sk-label-container {\n",
       "  text-align: center;\n",
       "}\n",
       "\n",
       "/* Estimator-specific */\n",
       "#sk-container-id-1 div.sk-estimator {\n",
       "  font-family: monospace;\n",
       "  border: 1px dotted var(--sklearn-color-border-box);\n",
       "  border-radius: 0.25em;\n",
       "  box-sizing: border-box;\n",
       "  margin-bottom: 0.5em;\n",
       "  /* unfitted */\n",
       "  background-color: var(--sklearn-color-unfitted-level-0);\n",
       "}\n",
       "\n",
       "#sk-container-id-1 div.sk-estimator.fitted {\n",
       "  /* fitted */\n",
       "  background-color: var(--sklearn-color-fitted-level-0);\n",
       "}\n",
       "\n",
       "/* on hover */\n",
       "#sk-container-id-1 div.sk-estimator:hover {\n",
       "  /* unfitted */\n",
       "  background-color: var(--sklearn-color-unfitted-level-2);\n",
       "}\n",
       "\n",
       "#sk-container-id-1 div.sk-estimator.fitted:hover {\n",
       "  /* fitted */\n",
       "  background-color: var(--sklearn-color-fitted-level-2);\n",
       "}\n",
       "\n",
       "/* Specification for estimator info (e.g. \"i\" and \"?\") */\n",
       "\n",
       "/* Common style for \"i\" and \"?\" */\n",
       "\n",
       ".sk-estimator-doc-link,\n",
       "a:link.sk-estimator-doc-link,\n",
       "a:visited.sk-estimator-doc-link {\n",
       "  float: right;\n",
       "  font-size: smaller;\n",
       "  line-height: 1em;\n",
       "  font-family: monospace;\n",
       "  background-color: var(--sklearn-color-background);\n",
       "  border-radius: 1em;\n",
       "  height: 1em;\n",
       "  width: 1em;\n",
       "  text-decoration: none !important;\n",
       "  margin-left: 1ex;\n",
       "  /* unfitted */\n",
       "  border: var(--sklearn-color-unfitted-level-1) 1pt solid;\n",
       "  color: var(--sklearn-color-unfitted-level-1);\n",
       "}\n",
       "\n",
       ".sk-estimator-doc-link.fitted,\n",
       "a:link.sk-estimator-doc-link.fitted,\n",
       "a:visited.sk-estimator-doc-link.fitted {\n",
       "  /* fitted */\n",
       "  border: var(--sklearn-color-fitted-level-1) 1pt solid;\n",
       "  color: var(--sklearn-color-fitted-level-1);\n",
       "}\n",
       "\n",
       "/* On hover */\n",
       "div.sk-estimator:hover .sk-estimator-doc-link:hover,\n",
       ".sk-estimator-doc-link:hover,\n",
       "div.sk-label-container:hover .sk-estimator-doc-link:hover,\n",
       ".sk-estimator-doc-link:hover {\n",
       "  /* unfitted */\n",
       "  background-color: var(--sklearn-color-unfitted-level-3);\n",
       "  color: var(--sklearn-color-background);\n",
       "  text-decoration: none;\n",
       "}\n",
       "\n",
       "div.sk-estimator.fitted:hover .sk-estimator-doc-link.fitted:hover,\n",
       ".sk-estimator-doc-link.fitted:hover,\n",
       "div.sk-label-container:hover .sk-estimator-doc-link.fitted:hover,\n",
       ".sk-estimator-doc-link.fitted:hover {\n",
       "  /* fitted */\n",
       "  background-color: var(--sklearn-color-fitted-level-3);\n",
       "  color: var(--sklearn-color-background);\n",
       "  text-decoration: none;\n",
       "}\n",
       "\n",
       "/* Span, style for the box shown on hovering the info icon */\n",
       ".sk-estimator-doc-link span {\n",
       "  display: none;\n",
       "  z-index: 9999;\n",
       "  position: relative;\n",
       "  font-weight: normal;\n",
       "  right: .2ex;\n",
       "  padding: .5ex;\n",
       "  margin: .5ex;\n",
       "  width: min-content;\n",
       "  min-width: 20ex;\n",
       "  max-width: 50ex;\n",
       "  color: var(--sklearn-color-text);\n",
       "  box-shadow: 2pt 2pt 4pt #999;\n",
       "  /* unfitted */\n",
       "  background: var(--sklearn-color-unfitted-level-0);\n",
       "  border: .5pt solid var(--sklearn-color-unfitted-level-3);\n",
       "}\n",
       "\n",
       ".sk-estimator-doc-link.fitted span {\n",
       "  /* fitted */\n",
       "  background: var(--sklearn-color-fitted-level-0);\n",
       "  border: var(--sklearn-color-fitted-level-3);\n",
       "}\n",
       "\n",
       ".sk-estimator-doc-link:hover span {\n",
       "  display: block;\n",
       "}\n",
       "\n",
       "/* \"?\"-specific style due to the `<a>` HTML tag */\n",
       "\n",
       "#sk-container-id-1 a.estimator_doc_link {\n",
       "  float: right;\n",
       "  font-size: 1rem;\n",
       "  line-height: 1em;\n",
       "  font-family: monospace;\n",
       "  background-color: var(--sklearn-color-background);\n",
       "  border-radius: 1rem;\n",
       "  height: 1rem;\n",
       "  width: 1rem;\n",
       "  text-decoration: none;\n",
       "  /* unfitted */\n",
       "  color: var(--sklearn-color-unfitted-level-1);\n",
       "  border: var(--sklearn-color-unfitted-level-1) 1pt solid;\n",
       "}\n",
       "\n",
       "#sk-container-id-1 a.estimator_doc_link.fitted {\n",
       "  /* fitted */\n",
       "  border: var(--sklearn-color-fitted-level-1) 1pt solid;\n",
       "  color: var(--sklearn-color-fitted-level-1);\n",
       "}\n",
       "\n",
       "/* On hover */\n",
       "#sk-container-id-1 a.estimator_doc_link:hover {\n",
       "  /* unfitted */\n",
       "  background-color: var(--sklearn-color-unfitted-level-3);\n",
       "  color: var(--sklearn-color-background);\n",
       "  text-decoration: none;\n",
       "}\n",
       "\n",
       "#sk-container-id-1 a.estimator_doc_link.fitted:hover {\n",
       "  /* fitted */\n",
       "  background-color: var(--sklearn-color-fitted-level-3);\n",
       "}\n",
       "</style><div id=\"sk-container-id-1\" class=\"sk-top-container\"><div class=\"sk-text-repr-fallback\"><pre>RandomForestClassifier(random_state=42)</pre><b>In a Jupyter environment, please rerun this cell to show the HTML representation or trust the notebook. <br />On GitHub, the HTML representation is unable to render, please try loading this page with nbviewer.org.</b></div><div class=\"sk-container\" hidden><div class=\"sk-item\"><div class=\"sk-estimator fitted sk-toggleable\"><input class=\"sk-toggleable__control sk-hidden--visually\" id=\"sk-estimator-id-1\" type=\"checkbox\" checked><label for=\"sk-estimator-id-1\" class=\"sk-toggleable__label fitted sk-toggleable__label-arrow fitted\">&nbsp;&nbsp;RandomForestClassifier<a class=\"sk-estimator-doc-link fitted\" rel=\"noreferrer\" target=\"_blank\" href=\"https://scikit-learn.org/1.4/modules/generated/sklearn.ensemble.RandomForestClassifier.html\">?<span>Documentation for RandomForestClassifier</span></a><span class=\"sk-estimator-doc-link fitted\">i<span>Fitted</span></span></label><div class=\"sk-toggleable__content fitted\"><pre>RandomForestClassifier(random_state=42)</pre></div> </div></div></div></div>"
      ],
      "text/plain": [
       "RandomForestClassifier(random_state=42)"
      ]
     },
     "execution_count": 80,
     "metadata": {},
     "output_type": "execute_result"
    }
   ],
   "source": [
    "# Step 7: Split the data into training and testing sets (80% train, 20% test)\n",
    "X_train, X_test, y_train, y_test = train_test_split(X, y, test_size=0.2, random_state=42)\n",
    "\n",
    "# Step 8: Initialize and train the model\n",
    "model = RandomForestClassifier(n_estimators=100, random_state=42)\n",
    "model.fit(X_train, y_train)\n"
   ]
  },
  {
   "cell_type": "code",
   "execution_count": null,
   "id": "55a142af-cd80-4fbc-8a2a-904375483ee0",
   "metadata": {},
   "outputs": [],
   "source": [
    "\n",
    "# Step 9: Make predictions on the test set\n",
    "y_pred = model.predict(X_test)\n",
    "\n",
    "# Step 10: Evaluate the model using accuracy and classification report\n",
    "print(f\"Accuracy: {accuracy_score(y_test, y_pred)}\")\n",
    "print(classification_report(y_test, y_pred))\n",
    "\n",
    "# Optional: You can also predict the churn for future data or specific users\n",
    "future_predictions = model.predict(X_test)  # Change this to future data if needed\n",
    "print(f\"Future churn predictions: {future_predictions}\")\n"
   ]
  },
  {
   "cell_type": "code",
   "execution_count": 8,
   "id": "6124eadf-b19f-4d57-9c6c-e593f287d970",
   "metadata": {},
   "outputs": [
    {
     "data": {
      "text/html": [
       "<div>\n",
       "<style scoped>\n",
       "    .dataframe tbody tr th:only-of-type {\n",
       "        vertical-align: middle;\n",
       "    }\n",
       "\n",
       "    .dataframe tbody tr th {\n",
       "        vertical-align: top;\n",
       "    }\n",
       "\n",
       "    .dataframe thead th {\n",
       "        text-align: right;\n",
       "    }\n",
       "</style>\n",
       "<table border=\"1\" class=\"dataframe\">\n",
       "  <thead>\n",
       "    <tr style=\"text-align: right;\">\n",
       "      <th></th>\n",
       "      <th>order_id</th>\n",
       "      <th>user_id</th>\n",
       "      <th>eval_set</th>\n",
       "      <th>order_number</th>\n",
       "      <th>order_dow</th>\n",
       "      <th>order_hour_of_day</th>\n",
       "      <th>days_since_prior_order</th>\n",
       "    </tr>\n",
       "  </thead>\n",
       "  <tbody>\n",
       "    <tr>\n",
       "      <th>0</th>\n",
       "      <td>2539329</td>\n",
       "      <td>1</td>\n",
       "      <td>prior</td>\n",
       "      <td>1</td>\n",
       "      <td>2</td>\n",
       "      <td>8</td>\n",
       "      <td>NaN</td>\n",
       "    </tr>\n",
       "    <tr>\n",
       "      <th>1</th>\n",
       "      <td>2398795</td>\n",
       "      <td>1</td>\n",
       "      <td>prior</td>\n",
       "      <td>2</td>\n",
       "      <td>3</td>\n",
       "      <td>7</td>\n",
       "      <td>15.0</td>\n",
       "    </tr>\n",
       "    <tr>\n",
       "      <th>2</th>\n",
       "      <td>473747</td>\n",
       "      <td>1</td>\n",
       "      <td>prior</td>\n",
       "      <td>3</td>\n",
       "      <td>3</td>\n",
       "      <td>12</td>\n",
       "      <td>21.0</td>\n",
       "    </tr>\n",
       "    <tr>\n",
       "      <th>3</th>\n",
       "      <td>2254736</td>\n",
       "      <td>1</td>\n",
       "      <td>prior</td>\n",
       "      <td>4</td>\n",
       "      <td>4</td>\n",
       "      <td>7</td>\n",
       "      <td>29.0</td>\n",
       "    </tr>\n",
       "    <tr>\n",
       "      <th>4</th>\n",
       "      <td>431534</td>\n",
       "      <td>1</td>\n",
       "      <td>prior</td>\n",
       "      <td>5</td>\n",
       "      <td>4</td>\n",
       "      <td>15</td>\n",
       "      <td>28.0</td>\n",
       "    </tr>\n",
       "    <tr>\n",
       "      <th>...</th>\n",
       "      <td>...</td>\n",
       "      <td>...</td>\n",
       "      <td>...</td>\n",
       "      <td>...</td>\n",
       "      <td>...</td>\n",
       "      <td>...</td>\n",
       "      <td>...</td>\n",
       "    </tr>\n",
       "    <tr>\n",
       "      <th>3421078</th>\n",
       "      <td>2266710</td>\n",
       "      <td>206209</td>\n",
       "      <td>prior</td>\n",
       "      <td>10</td>\n",
       "      <td>5</td>\n",
       "      <td>18</td>\n",
       "      <td>29.0</td>\n",
       "    </tr>\n",
       "    <tr>\n",
       "      <th>3421079</th>\n",
       "      <td>1854736</td>\n",
       "      <td>206209</td>\n",
       "      <td>prior</td>\n",
       "      <td>11</td>\n",
       "      <td>4</td>\n",
       "      <td>10</td>\n",
       "      <td>30.0</td>\n",
       "    </tr>\n",
       "    <tr>\n",
       "      <th>3421080</th>\n",
       "      <td>626363</td>\n",
       "      <td>206209</td>\n",
       "      <td>prior</td>\n",
       "      <td>12</td>\n",
       "      <td>1</td>\n",
       "      <td>12</td>\n",
       "      <td>18.0</td>\n",
       "    </tr>\n",
       "    <tr>\n",
       "      <th>3421081</th>\n",
       "      <td>2977660</td>\n",
       "      <td>206209</td>\n",
       "      <td>prior</td>\n",
       "      <td>13</td>\n",
       "      <td>1</td>\n",
       "      <td>12</td>\n",
       "      <td>7.0</td>\n",
       "    </tr>\n",
       "    <tr>\n",
       "      <th>3421082</th>\n",
       "      <td>272231</td>\n",
       "      <td>206209</td>\n",
       "      <td>train</td>\n",
       "      <td>14</td>\n",
       "      <td>6</td>\n",
       "      <td>14</td>\n",
       "      <td>30.0</td>\n",
       "    </tr>\n",
       "  </tbody>\n",
       "</table>\n",
       "<p>3421083 rows × 7 columns</p>\n",
       "</div>"
      ],
      "text/plain": [
       "         order_id  user_id eval_set  order_number  order_dow  \\\n",
       "0         2539329        1    prior             1          2   \n",
       "1         2398795        1    prior             2          3   \n",
       "2          473747        1    prior             3          3   \n",
       "3         2254736        1    prior             4          4   \n",
       "4          431534        1    prior             5          4   \n",
       "...           ...      ...      ...           ...        ...   \n",
       "3421078   2266710   206209    prior            10          5   \n",
       "3421079   1854736   206209    prior            11          4   \n",
       "3421080    626363   206209    prior            12          1   \n",
       "3421081   2977660   206209    prior            13          1   \n",
       "3421082    272231   206209    train            14          6   \n",
       "\n",
       "         order_hour_of_day  days_since_prior_order  \n",
       "0                        8                     NaN  \n",
       "1                        7                    15.0  \n",
       "2                       12                    21.0  \n",
       "3                        7                    29.0  \n",
       "4                       15                    28.0  \n",
       "...                    ...                     ...  \n",
       "3421078                 18                    29.0  \n",
       "3421079                 10                    30.0  \n",
       "3421080                 12                    18.0  \n",
       "3421081                 12                     7.0  \n",
       "3421082                 14                    30.0  \n",
       "\n",
       "[3421083 rows x 7 columns]"
      ]
     },
     "execution_count": 8,
     "metadata": {},
     "output_type": "execute_result"
    }
   ],
   "source": [
    "orders = pd.read_csv(\"/Users/rishikeshdhokare/Documents/Ironhack/FinalProject/instacart-customer-churn-analysis/datafiles/orders.csv\")\n",
    "orders"
   ]
  },
  {
   "cell_type": "code",
   "execution_count": 1,
   "id": "64925705-403a-4bcc-967a-af047fff2f7e",
   "metadata": {},
   "outputs": [
    {
     "name": "stderr",
     "output_type": "stream",
     "text": [
      "/var/folders/43/30gtvzf54299gghzdyc8_l900000gn/T/ipykernel_32383/2541108991.py:13: FutureWarning: DataFrame.applymap has been deprecated. Use DataFrame.map instead.\n",
      "  df_cleaned = df.applymap(remove_non_ascii)\n"
     ]
    },
    {
     "name": "stdout",
     "output_type": "stream",
     "text": [
      "Non-ASCII characters removed and saved to new file.\n"
     ]
    }
   ],
   "source": [
    "import pandas as pd\n",
    "#Remove non-ASCII characters\n",
    "\n",
    "file_path = '/Users/rishikeshdhokare/Documents/Ironhack/FinalProject/instacart-market-basket-analysis/datafiles/products.csv'\n",
    "df = pd.read_csv(file_path, encoding='utf-8')\n",
    "\n",
    "def remove_non_ascii(text):\n",
    "    # If value is not string (e.g., NaN), return it as is\n",
    "    if not isinstance(text, str):\n",
    "        return text\n",
    "    return ''.join([char for char in text if ord(char) < 128])\n",
    "\n",
    "df_cleaned = df.applymap(remove_non_ascii)\n",
    "cleaned_file_path = '/Users/rishikeshdhokare/Documents/Ironhack/FinalProject/instacart-market-basket-analysis/datafiles/products1.csv'\n",
    "df_cleaned.to_csv(cleaned_file_path, encoding='utf-8', index=False)\n",
    "\n",
    "print(\"Non-ASCII characters removed and saved to new file.\")"
   ]
  },
  {
   "cell_type": "code",
   "execution_count": 81,
   "id": "f89bc46c-a952-45bc-858d-7f54b567abba",
   "metadata": {},
   "outputs": [
    {
     "name": "stderr",
     "output_type": "stream",
     "text": [
      "/var/folders/43/30gtvzf54299gghzdyc8_l900000gn/T/ipykernel_85416/3362088738.py:2: FutureWarning: \n",
      "\n",
      "Passing `palette` without assigning `hue` is deprecated and will be removed in v0.14.0. Assign the `x` variable to `hue` and set `legend=False` for the same effect.\n",
      "\n",
      "  sns.countplot(x='eval_set', data=orders, palette=colors)\n",
      "/var/folders/43/30gtvzf54299gghzdyc8_l900000gn/T/ipykernel_85416/3362088738.py:2: UserWarning: The palette list has more values (10) than needed (3), which may not be intended.\n",
      "  sns.countplot(x='eval_set', data=orders, palette=colors)\n"
     ]
    },
    {
     "data": {
      "image/png": "[encoded data removed]",
      "text/plain": [
       "<Figure size 640x480 with 1 Axes>"
      ]
     },
     "metadata": {},
     "output_type": "display_data"
    }
   ],
   "source": [
    "colors = sns.color_palette(\"pastel\")\n",
    "sns.countplot(x='eval_set', data=orders, palette=colors)\n",
    "plt.show()"
   ]
  },
  {
   "cell_type": "markdown",
   "id": "41c15b5e-0efe-4a36-a7c2-82fc704eb2ab",
   "metadata": {},
   "source": [
    "## Reordered Ratio of Products in Prior Set"
   ]
  },
  {
   "cell_type": "code",
   "execution_count": 68,
   "id": "02e1a3de-25ff-46ba-b8aa-d5c757205e57",
   "metadata": {},
   "outputs": [
    {
     "name": "stdout",
     "output_type": "stream",
     "text": [
      "reordered\n",
      "1    0.589697\n",
      "0    0.410303\n",
      "Name: count, dtype: float64\n"
     ]
    },
    {
     "name": "stderr",
     "output_type": "stream",
     "text": [
      "/var/folders/43/30gtvzf54299gghzdyc8_l900000gn/T/ipykernel_85416/4213713836.py:8: FutureWarning: \n",
      "\n",
      "Passing `palette` without assigning `hue` is deprecated and will be removed in v0.14.0. Assign the `x` variable to `hue` and set `legend=False` for the same effect.\n",
      "\n",
      "  ax = sns.barplot(x=reorder_ratio_prior.index, y=reorder_ratio_prior.values, palette=colors)\n",
      "/var/folders/43/30gtvzf54299gghzdyc8_l900000gn/T/ipykernel_85416/4213713836.py:9: UserWarning: set_ticklabels() should only be used with a fixed number of ticks, i.e. after set_ticks() or using a FixedLocator.\n",
      "  ax.set_xticklabels(['First-time ordered products', 'Reordered'])\n"
     ]
    },
    {
     "data": {
      "image/png": "[encoded data removed]",
      "text/plain": [
       "<Figure size 640x480 with 1 Axes>"
      ]
     },
     "metadata": {},
     "output_type": "display_data"
    }
   ],
   "source": [
    "total_prod_count_prior = order_products_prior.shape[0]\n",
    "reorder_ratio_prior = order_products_prior['reordered'].value_counts()/total_prod_count_prior\n",
    "print(reorder_ratio_prior)\n",
    "\n",
    "colors = ['#66c2a5', '#fc8d62']  # You can use any colors you like\n",
    "\n",
    "# Plot the barplot\n",
    "ax = sns.barplot(x=reorder_ratio_prior.index, y=reorder_ratio_prior.values, palette=colors)\n",
    "ax.set_xticklabels(['First-time ordered products', 'Reordered'])\n",
    "\n",
    "# Annotate each bar with the percentage\n",
    "for i, value in enumerate(reorder_ratio_prior.values):\n",
    "    ax.text(i, value + 0.01, f\"{value:.2%}\", ha='center', color='black', fontweight='bold')\n",
    "\n",
    "# Set the plot title\n",
    "plt.title('Reordered Ratio of Products in Prior Set')\n",
    "\n",
    "# Show the plot\n",
    "plt.show()\n"
   ]
  },
  {
   "cell_type": "markdown",
   "id": "27a13f0d-dab3-4d81-95e8-ce5e19d85fa2",
   "metadata": {},
   "source": [
    "## Reordered Ratio of Products in Train Set"
   ]
  },
  {
   "cell_type": "code",
   "execution_count": 70,
   "id": "7aa6298f-250c-4039-8921-1e51b1c813b6",
   "metadata": {},
   "outputs": [
    {
     "name": "stdout",
     "output_type": "stream",
     "text": [
      "reordered\n",
      "1    0.598594\n",
      "0    0.401406\n",
      "Name: count, dtype: float64\n"
     ]
    },
    {
     "name": "stderr",
     "output_type": "stream",
     "text": [
      "/var/folders/43/30gtvzf54299gghzdyc8_l900000gn/T/ipykernel_85416/1235754156.py:8: FutureWarning: \n",
      "\n",
      "Passing `palette` without assigning `hue` is deprecated and will be removed in v0.14.0. Assign the `x` variable to `hue` and set `legend=False` for the same effect.\n",
      "\n",
      "  ax = sns.barplot(x=reorder_ratio_train.index, y=reorder_ratio_train.values, palette=colors)\n",
      "/var/folders/43/30gtvzf54299gghzdyc8_l900000gn/T/ipykernel_85416/1235754156.py:9: UserWarning: set_ticklabels() should only be used with a fixed number of ticks, i.e. after set_ticks() or using a FixedLocator.\n",
      "  ax.set_xticklabels(['First-time ordered products', 'Reordered'])\n"
     ]
    },
    {
     "data": {
      "image/png": "[encoded data removed]",
      "text/plain": [
       "<Figure size 640x480 with 1 Axes>"
      ]
     },
     "metadata": {},
     "output_type": "display_data"
    }
   ],
   "source": [
    "total_prod_count_train = order_products_train.shape[0]\n",
    "reorder_ratio_train = order_products_train['reordered'].value_counts()/total_prod_count_train\n",
    "print(reorder_ratio_train)\n",
    "\n",
    "colors = ['#66c2a5', '#fc8d62']  # You can use any colors you like\n",
    "\n",
    "# Plot the barplot\n",
    "ax = sns.barplot(x=reorder_ratio_train.index, y=reorder_ratio_train.values, palette=colors)\n",
    "ax.set_xticklabels(['First-time ordered products', 'Reordered'])\n",
    "\n",
    "# Annotate each bar with the percentage\n",
    "for i, value in enumerate(reorder_ratio_train.values):\n",
    "    ax.text(i, value + 0.01, f\"{value:.2%}\", ha='center', color='black', fontweight='bold')\n",
    "\n",
    "# Set the plot title\n",
    "plt.title('Reordered Ratio of Products in Prior Set')\n",
    "\n",
    "# Show the plot\n",
    "plt.show()\n"
   ]
  },
  {
   "cell_type": "code",
   "execution_count": 34,
   "id": "bf7c4e48-9447-4d6e-861d-9ef76584bc53",
   "metadata": {},
   "outputs": [
    {
     "name": "stdout",
     "output_type": "stream",
     "text": [
      "  year_month  churn_rate\n",
      "0    2021-01   95.311394\n",
      "1    2021-02   72.755415\n",
      "2    2021-03   12.109030\n",
      "3    2021-04    0.000000\n"
     ]
    }
   ],
   "source": [
    "import pandas as pd\n",
    "\n",
    "# Load the dataset\n",
    "orders = pd.read_csv('/Users/rishikeshdhokare/Documents/Ironhack/FinalProject/instacart-market-basket-analysis/datafiles/orders.csv')\n",
    "\n",
    "# Convert 'days_since_prior_order' to numeric (if needed)\n",
    "orders['days_since_prior_order'] = pd.to_numeric(orders['days_since_prior_order'], errors='coerce')\n",
    "\n",
    "# Create 'order_date' column using 'order_number' and 'days_since_prior_order'\n",
    "orders['order_date'] = pd.to_datetime(orders['order_number'], unit='D')\n",
    "\n",
    "# Extract year and month\n",
    "orders['year_month'] = orders['order_date'].dt.to_period('M')\n",
    "\n",
    "# Calculate the last order date for each customer\n",
    "last_order = orders.groupby('user_id')['order_date'].max().reset_index()\n",
    "\n",
    "# Define the churn threshold (e.g., 30 days)\n",
    "churn_threshold = pd.Timedelta(days=30)\n",
    "\n",
    "# Create a 'churned' column indicating whether the customer churned\n",
    "last_order['churned'] = last_order['order_date'] < (last_order['order_date'].max() - churn_threshold)\n",
    "\n",
    "# Merge the churn status back with the original dataset\n",
    "orders = pd.merge(orders, last_order[['user_id', 'churned']], on='user_id', how='left')\n",
    "\n",
    "# Group by year_month and calculate churn rate for each month\n",
    "monthly_churn = orders.groupby('year_month')['churned'].mean().reset_index()\n",
    "\n",
    "# Convert churn rate to percentage\n",
    "monthly_churn['churn_rate'] = monthly_churn['churned'] * 100\n",
    "\n",
    "# Convert 'year_month' to string to modify the year part\n",
    "monthly_churn['year_month'] = monthly_churn['year_month'].astype(str)\n",
    "\n",
    "# Replace the year '1970' with '2021'\n",
    "monthly_churn['year_month'] = monthly_churn['year_month'].replace(r'^1970', '2021', regex=True)\n",
    "\n",
    "# Display the modified churn rates with year as 2021\n",
    "print(monthly_churn[['year_month', 'churn_rate']])\n"
   ]
  },
  {
   "cell_type": "code",
   "execution_count": 6,
   "id": "c8fc74ef-196c-4546-90d6-f2d8915631d9",
   "metadata": {},
   "outputs": [
    {
     "name": "stdout",
     "output_type": "stream",
     "text": [
      "Inserted 1 million rows.\n"
     ]
    }
   ],
   "source": [
    "import pandas as pd\n",
    "from sqlalchemy import create_engine\n",
    "\n",
    "# MySQL connection details\n",
    "username = 'root'\n",
    "password = 'berlin13055'\n",
    "host = '127.0.0.1'  # Localhost for MySQL\n",
    "database = 'instacart'\n",
    "\n",
    "# SQLconnection \n",
    "connection_string = f'mysql+mysqlconnector://{username}:{password}@{host}/{database}'\n",
    "engine = create_engine(connection_string)\n",
    "\n",
    "# File path for the CSV\n",
    "csv_file_path = \"/Users/rishikeshdhokare/Documents/Ironhack/FinalProject/instacart-market-basket-analysis/datafiles/order_products__prior.csv\"\n",
    "\n",
    "# Define the starting row and limit to 10 million rows\n",
    "starting_row = 24081611 \n",
    "rows_to_insert = 1000000 \n",
    "\n",
    "# Column names as per the database schema \n",
    "column_names = ['order_id', 'product_id', 'add_to_cart_order', 'reordered']\n",
    "\n",
    "try:\n",
    "    # Read the CSV, starting from the row after the existing data, with only 1 million rows\n",
    "    df = pd.read_csv(csv_file_path, skiprows=starting_row, nrows=rows_to_insert, header=None, names=column_names)\n",
    "    \n",
    "    df.to_sql(name='order_products_prior', con=engine, if_exists='append', index=False)\n",
    "    \n",
    "    print(\"Inserted 1 million rows.\")\n",
    "\n",
    "except Exception as e:\n",
    "    print(f\"Error occurred: {e}\")\n",
    "\n",
    "finally:\n",
    "    engine.dispose()\n"
   ]
  },
  {
   "cell_type": "code",
   "execution_count": 51,
   "id": "defa710d-72e8-42b9-acb2-22e939bde240",
   "metadata": {},
   "outputs": [
    {
     "name": "stdout",
     "output_type": "stream",
     "text": [
      "Empty DataFrame\n",
      "Columns: [order_id, user_id, eval_set, order_number, order_dow, order_hour_of_day, days_since_prior_order]\n",
      "Index: []\n"
     ]
    }
   ],
   "source": [
    "import pandas as pd\n",
    "\n",
    "# Load the orders table into a DataFrame\n",
    "orders = pd.read_csv(\"/Users/rishikeshdhokare/Documents/Ironhack/FinalProject/instacart-market-basket-analysis/datafiles/orders.csv\")  # or use your MySQL connection if already loaded in SQL\n",
    "\n",
    "duplicate_order_ids = orders[orders.duplicated(subset=['order_id'], keep=False)]\n",
    "\n",
    "# Show the duplicate order ids\n",
    "print(duplicate_order_ids)\n"
   ]
  },
  {
   "cell_type": "code",
   "execution_count": 103,
   "id": "93cc3d12-849f-4718-9d00-546cfc82b4b3",
   "metadata": {},
   "outputs": [
    {
     "name": "stdout",
     "output_type": "stream",
     "text": [
      "Inserted 2 million rows.\n"
     ]
    }
   ],
   "source": [
    "import pandas as pd\n",
    "from sqlalchemy import create_engine\n",
    "\n",
    "# MySQL connection details\n",
    "username = 'root'\n",
    "password = 'berlin13055'\n",
    "host = '127.0.0.1'  # Localhost for MySQL\n",
    "database = 'instacart'\n",
    "\n",
    "# SQL connection string\n",
    "connection_string = f'mysql+mysqlconnector://{username}:{password}@{host}/{database}'\n",
    "engine = create_engine(connection_string)\n",
    "\n",
    "# File path for the CSV\n",
    "csv_file_path = \"/Users/rishikeshdhokare/Documents/Ironhack/FinalProject/instacart-market-basket-analysis/datafiles/orders.csv\"\n",
    "\n",
    "# Define the starting row and limit to 2 million rows\n",
    "starting_row = 3421084\n",
    "rows_to_insert = 100\n",
    "\n",
    "# Column names as per the database schema\n",
    "column_names = ['order_id', 'user_id', 'eval_set', 'order_number', 'order_dow', 'order_hour_of_day', 'days_since_prior_order']\n",
    "\n",
    "try:\n",
    "    # Read the CSV, starting from the row after the existing data, with only 2 million rows\n",
    "    df = pd.read_csv(csv_file_path, skiprows=starting_row, nrows=rows_to_insert, header=None, names=column_names)\n",
    "\n",
    "    # Insert the DataFrame into the SQL table 'orders'\n",
    "    df.to_sql(name='orders', con=engine, if_exists='append', index=False)\n",
    "\n",
    "    print(\"Inserted 2 million rows.\")\n",
    "\n",
    "except Exception as e:\n",
    "    print(f\"Error occurred: {e}\")\n",
    "\n",
    "finally:\n",
    "    # Dispose of the engine (this closes the connection to MySQL)\n",
    "    engine.dispose()\n"
   ]
  },
  {
   "cell_type": "code",
   "execution_count": 28,
   "id": "9471f4bc-bfde-4213-bb6a-a030eb5e847b",
   "metadata": {},
   "outputs": [
    {
     "name": "stdout",
     "output_type": "stream",
     "text": [
      "Data saved to /Users/rishikeshdhokare/Documents/Ironhack/FinalProject/instacart-market-basket-analysis/datafiles/orders_after_799508.csv after dropping the first 799508 rows.\n"
     ]
    }
   ],
   "source": [
    "import pandas as pd\n",
    "\n",
    "# Original file path\n",
    "csv_file_path = \"/Users/rishikeshdhokare/Documents/Ironhack/FinalProject/instacart-market-basket-analysis/datafiles/orders.csv\"\n",
    "\n",
    "# Output file path for the new CSV with rows after the first 799,508\n",
    "output_file_path = \"/Users/rishikeshdhokare/Documents/Ironhack/FinalProject/instacart-market-basket-analysis/datafiles/orders_after_799508.csv\"\n",
    "\n",
    "# Number of rows to skip\n",
    "rows_to_skip = 799508\n",
    "\n",
    "# Load the data after skipping the first 799,508 rows\n",
    "df = pd.read_csv(csv_file_path, skiprows=rows_to_skip, header=0)  # 'header=0' to retain column headers\n",
    "\n",
    "# Save the remaining data to a new CSV file\n",
    "df.to_csv(output_file_path, index=False)\n",
    "\n",
    "print(f\"Data saved to {output_file_path} after dropping the first {rows_to_skip} rows.\")\n"
   ]
  },
  {
   "cell_type": "code",
   "execution_count": null,
   "id": "88447890-ec55-4874-b6ec-72ae03d2f515",
   "metadata": {},
   "outputs": [],
   "source": []
  }
 ],
 "metadata": {
  "kernelspec": {
   "display_name": "Python 3 (ipykernel)",
   "language": "python",
   "name": "python3"
  },
  "language_info": {
   "codemirror_mode": {
    "name": "ipython",
    "version": 3
   },
   "file_extension": ".py",
   "mimetype": "text/x-python",
   "name": "python",
   "nbconvert_exporter": "python",
   "pygments_lexer": "ipython3",
   "version": "3.12.4"
  }
 },
 "nbformat": 4,
 "nbformat_minor": 5
}
